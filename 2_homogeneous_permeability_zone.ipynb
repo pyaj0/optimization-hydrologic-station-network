{
 "cells": [
  {
   "cell_type": "code",
   "execution_count": 1,
   "id": "placed-letters",
   "metadata": {},
   "outputs": [],
   "source": [
    "# import libraries\n",
    "import numpy as np\n",
    "import pandas as pd\n",
    "import geopandas as gpd\n",
    "import matplotlib.pyplot as plt\n",
    "%matplotlib inline"
   ]
  },
  {
   "cell_type": "code",
   "execution_count": 2,
   "id": "formed-allen",
   "metadata": {},
   "outputs": [],
   "source": [
    "# load sota basin shapefile\n",
    "sota = gpd.read_file('./data/input/sota_basin.shp')"
   ]
  },
  {
   "cell_type": "code",
   "execution_count": 3,
   "id": "fantastic-immunology",
   "metadata": {},
   "outputs": [],
   "source": [
    "# change projection system of sota to EPSG:4326\n",
    "sota = sota.to_crs('EPSG:4326')"
   ]
  },
  {
   "cell_type": "code",
   "execution_count": 4,
   "id": "numerous-plain",
   "metadata": {},
   "outputs": [],
   "source": [
    "# load soil data\n",
    "soil = gpd.read_file('./data/soilmap_benin.shp')"
   ]
  },
  {
   "cell_type": "code",
   "execution_count": 5,
   "id": "hourly-happening",
   "metadata": {},
   "outputs": [],
   "source": [
    "# change projection system of soil to EPSG:4326\n",
    "soil = soil.to_crs('EPSG:4326')"
   ]
  },
  {
   "cell_type": "code",
   "execution_count": 6,
   "id": "second-official",
   "metadata": {},
   "outputs": [],
   "source": [
    "# extract legend information from avl file\n",
    "avl_data = [['Rivière', 0, 0],\n",
    "        ['Sols minéraux bruts', 1, 2],\n",
    "        ['Sols peu évolués lithiques', 3, 4],\n",
    "        ['Sols peu évolués modaux', 5, 5],\n",
    "        ['Sols peu évolués hydromorphes', 6, 9],\n",
    "        ['Vertisols hydromorphes', 10, 10],\n",
    "        ['Vertisols modaux', 11, 13],\n",
    "        ['Sols bruns eutrophes hydromorphes', 14, 14],\n",
    "        ['Sols bruns eutrophes ferruginisés', 15, 15],\n",
    "        ['Sols ferrugineux tropicaux peu lessivés, peu lessivés en argile, lessivés en sesquioxydes', 16, 27],\n",
    "        ['Sols ferrugineux tropicaux peu lessivés hydromorphes', 28, 29],\n",
    "        ['Sols ferrugineux tropicaux peu lessivés jeunes', 30, 30],\n",
    "        ['Sols ferrugineux tropicaux lessivés sans concrétions', 31, 44],\n",
    "        ['Sols ferrugineux tropicaux lessivés à concrétions', 45, 59],\n",
    "        ['Sols ferrugineux tropicaux lessivés indurés', 60, 72],\n",
    "        ['Sols ferrugineux tropicaux lessivés hydromorphes', 73, 79],\n",
    "        ['Sols ferrugineux tropicaux appauvris sans concrétions', 80, 80],\n",
    "        ['Sols ferrugineux tropicaux appauvris à concrétions', 81, 81],\n",
    "        ['Sols ferrugineux tropicaux appauvris peu ferruginisés', 82, 82],\n",
    "        ['Sols ferrallitiques faiblement désaturés appauvris modaux', 83, 87],\n",
    "        ['Sols ferrallitiques faiblement désaturés appauvris hydromorphes', 88, 88],\n",
    "        ['Sols ferralitiques faiblement désaturés rajeunis ou pénévolués avec érosion et remaniement', 89, 93],\n",
    "        ['Sols ferrallitiques moyennement désaturés typiques', 94, 95],\n",
    "        ['Sols ferrallitiques moyennement désaturés appauvris', 96, 96],\n",
    "        ['Sols ferrallitiques moyennement désaturés rajeunis ou pénévolués', 97, 97],\n",
    "        ['Sols hydromorphes moyennement organiques humiques à gley', 98, 99],\n",
    "        ['Sols hydromorphes minéraux ou peu humifères à gley de profondeur', 100, 102],\n",
    "        ['Sols hydromorphes  minéraux ou peu humifères à gley lessivés', 103, 104],\n",
    "        ['Sols hydromorphes minéraux ou peu humifères à pseudo-gley', 105, 107],\n",
    "        ['No Data', -1, -1]\n",
    "]\n",
    "# create avl dataframe\n",
    "avl = pd.DataFrame(avl_data, columns=['Label', 'MinNum', 'MaxNum'])"
   ]
  },
  {
   "cell_type": "code",
   "execution_count": 7,
   "id": "sound-grammar",
   "metadata": {},
   "outputs": [],
   "source": [
    "# add legend data to soil data for further analysis\n",
    "df = pd.DataFrame(columns=[\"SOIL_ID\", \"label\"])\n",
    "for i, row in avl.iterrows():\n",
    "    for j in range(row[\"MinNum\"], row[\"MaxNum\"]+1):\n",
    "        df = df.append({\"SOIL_ID\": j, \"label\": row[\"Label\"]}, ignore_index=True)\n",
    "soil = soil.merge(df, on=\"SOIL_ID\")"
   ]
  },
  {
   "cell_type": "code",
   "execution_count": 8,
   "id": "organized-master",
   "metadata": {},
   "outputs": [],
   "source": [
    "# clip soil with sota\n",
    "soil_sota = gpd.clip(soil, sota)"
   ]
  },
  {
   "cell_type": "code",
   "execution_count": 9,
   "id": "monetary-rings",
   "metadata": {},
   "outputs": [
    {
     "data": {
      "text/plain": [
       "array(['Rivière', 'Sols minéraux bruts', 'Sols peu évolués lithiques',\n",
       "       'Sols ferrugineux tropicaux peu lessivés, peu lessivés en argile, lessivés en sesquioxydes',\n",
       "       'Sols ferrugineux tropicaux peu lessivés hydromorphes',\n",
       "       'Sols ferrugineux tropicaux lessivés sans concrétions',\n",
       "       'Sols ferrugineux tropicaux lessivés à concrétions',\n",
       "       'Sols ferrugineux tropicaux lessivés indurés',\n",
       "       'Sols ferrugineux tropicaux lessivés hydromorphes',\n",
       "       'Sols ferralitiques faiblement désaturés rajeunis ou pénévolués avec érosion et remaniement',\n",
       "       'Sols hydromorphes minéraux ou peu humifères à gley de profondeur'],\n",
       "      dtype=object)"
      ]
     },
     "execution_count": 9,
     "metadata": {},
     "output_type": "execute_result"
    }
   ],
   "source": [
    "# show unique values of soil classification in sota\n",
    "soil_sota['label'].unique()"
   ]
  },
  {
   "cell_type": "code",
   "execution_count": 10,
   "id": "involved-extraction",
   "metadata": {},
   "outputs": [],
   "source": [
    "# group soil types by main categories according to name\n",
    "sl_conditions = [(soil_sota['label'] == 'Sols ferrugineux tropicaux peu lessivés, peu lessivés en argile, lessivés en sesquioxydes') | (soil_sota['label'] == 'Sols ferrugineux tropicaux peu lessivés hydromorphes') | (soil_sota['label'] == 'Sols ferrugineux tropicaux lessivés sans concrétions') | (soil_sota['label'] == 'Sols ferrugineux tropicaux lessivés indurés') | (soil_sota['label'] == 'Sols ferrugineux tropicaux lessivés hydromorphes') | (soil_sota['label'] == 'Sols ferrugineux tropicaux lessivés à concrétions'),\n",
    "                 (soil_sota['label'] == 'Sols ferralitiques faiblement désaturés rajeunis ou pénévolués avec érosion et remaniement' ),\n",
    "                 (soil_sota['label'] == 'Sols hydromorphes minéraux ou peu humifères à gley de profondeur'),\n",
    "                 (soil_sota['label'] == 'Sols peu évolués lithiques') | (soil_sota['label'] == 'Sols peu évolués modaux') | (soil_sota['label'] == 'Sols peu évolués hydromorphes'),\n",
    "                 (soil_sota['label'] == 'Sols minéraux bruts'),\n",
    "                 (soil_sota['label'] == 'Rivière')\n",
    "                ]\n",
    "sl_choices = ['ferruginous', 'ferralitic', 'hydromorphic', 'slightly developed', 'vertisols', 'river']\n",
    "soil_sota['G_Type'] = np.select(sl_conditions, sl_choices, default=None)"
   ]
  },
  {
   "cell_type": "code",
   "execution_count": 11,
   "id": "collaborative-boulder",
   "metadata": {},
   "outputs": [],
   "source": [
    "# another categorization by sensibility of soils to water\n",
    "sw_conditions_ = [(soil_sota['G_Type'] == 'hydromorphic') | (soil_sota['G_Type'] == 'river'),       # grey soil, recharges local groundwater flow\n",
    "                  (soil_sota['G_Type'] == 'vertisols'),         # clay-rich dry soil, expends when wet\n",
    "                 (soil_sota['G_Type'] == 'ferralitic'),         # red and patchy yellow-red humid tropic soil\n",
    "                 (soil_sota['G_Type'] == 'slightly developed'), # slightly altered soil, erosive\n",
    "                 (soil_sota['G_Type'] == 'ferruginous'),        # dark red-brown savanna soil / ultisol\n",
    "                 ]\n",
    "sw_choices_ = [5, 4, 3, 2, 1]\n",
    "soil_sota['W_Type'] = np.select(sw_conditions_, sw_choices_, default=None)"
   ]
  },
  {
   "cell_type": "code",
   "execution_count": 12,
   "id": "separated-invite",
   "metadata": {},
   "outputs": [],
   "source": [
    "# dissolve soil data with water type column\n",
    "soil_sota_class = soil_sota.dissolve(by='W_Type').reset_index()"
   ]
  },
  {
   "cell_type": "code",
   "execution_count": 13,
   "id": "intensive-chest",
   "metadata": {},
   "outputs": [
    {
     "data": {
      "text/plain": [
       "<AxesSubplot:>"
      ]
     },
     "execution_count": 13,
     "metadata": {},
     "output_type": "execute_result"
    },
    {
     "data": {
      "image/png": "[encoded data removed]",
      "text/plain": [
       "<Figure size 432x288 with 1 Axes>"
      ]
     },
     "metadata": {
      "needs_background": "light"
     },
     "output_type": "display_data"
    }
   ],
   "source": [
    "# plot categorized soil\n",
    "soil_sota_class.plot(column='W_Type')"
   ]
  },
  {
   "cell_type": "code",
   "execution_count": 14,
   "id": "early-forth",
   "metadata": {},
   "outputs": [],
   "source": [
    "# export to homogeneous permeability zones of sota\n",
    "#soil_sota_class.to_file('./data/output/homogeneous_permeability_zone.shp')"
   ]
  }
 ],
 "metadata": {
  "kernelspec": {
   "display_name": "Python 3",
   "language": "python",
   "name": "python3"
  },
  "language_info": {
   "codemirror_mode": {
    "name": "ipython",
    "version": 3
   },
   "file_extension": ".py",
   "mimetype": "text/x-python",
   "name": "python",
   "nbconvert_exporter": "python",
   "pygments_lexer": "ipython3",
   "version": "3.9.2"
  }
 },
 "nbformat": 4,
 "nbformat_minor": 5
}
