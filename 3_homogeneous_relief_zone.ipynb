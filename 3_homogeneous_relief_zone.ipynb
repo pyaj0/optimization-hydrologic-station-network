{
 "cells": [
  {
   "cell_type": "code",
   "execution_count": 1,
   "id": "comfortable-ground",
   "metadata": {},
   "outputs": [],
   "source": [
    "# import libraries\n",
    "import numpy as np\n",
    "import pandas as pd\n",
    "import geopandas as gpd\n",
    "import matplotlib.pyplot as plt\n",
    "from rasterstats import zonal_stats\n",
    "%matplotlib inline"
   ]
  },
  {
   "cell_type": "code",
   "execution_count": 2,
   "id": "funny-impression",
   "metadata": {},
   "outputs": [],
   "source": [
    "# load sota basin shapefile\n",
    "sota = gpd.read_file('./data/input/sota_basin.shp')"
   ]
  },
  {
   "cell_type": "code",
   "execution_count": 3,
   "id": "found-breath",
   "metadata": {},
   "outputs": [],
   "source": [
    "# load sota sub basins shapefile\n",
    "subs = gpd.read_file('./data/input/sub_basins_sota.shp')"
   ]
  },
  {
   "cell_type": "code",
   "execution_count": 4,
   "id": "indie-preview",
   "metadata": {},
   "outputs": [],
   "source": [
    "# find minimum and maximum elevation of each sub basin\n",
    "subs = subs.join(pd.DataFrame(zonal_stats(\n",
    "    vectors=subs['geometry'],\n",
    "    raster='./data/input/dem_sota.tif',\n",
    "    stats=['max','min'])), how='left')"
   ]
  },
  {
   "cell_type": "code",
   "execution_count": 5,
   "id": "hungarian-fraction",
   "metadata": {},
   "outputs": [],
   "source": [
    "# calculate height difference\n",
    "subs['D'] = subs['max'] - subs['min']"
   ]
  },
  {
   "cell_type": "code",
   "execution_count": 6,
   "id": "talented-today",
   "metadata": {},
   "outputs": [],
   "source": [
    "# calculate perimeter and area\n",
    "subs['P'] = subs.length\n",
    "subs['A'] = subs.area"
   ]
  },
  {
   "cell_type": "code",
   "execution_count": 7,
   "id": "parental-disco",
   "metadata": {},
   "outputs": [],
   "source": [
    "# calculate shape coefficient\n",
    "subs['C'] = 0.282 * subs['P'] * (subs['A'] ** -0.5)"
   ]
  },
  {
   "cell_type": "code",
   "execution_count": 8,
   "id": "placed-imperial",
   "metadata": {},
   "outputs": [],
   "source": [
    "# calculate equivalent rectangle length\n",
    "subs ['L'] = (subs['A'] ** 0.5) * (subs['C'] / 1.128) * (1 + np.sqrt(1 - ((1.128 / subs['C']) ** 2)))"
   ]
  },
  {
   "cell_type": "code",
   "execution_count": 9,
   "id": "short-applicant",
   "metadata": {},
   "outputs": [],
   "source": [
    "# calculate specific height difference\n",
    "subs['Ds'] = (subs['D'] / subs['L']) * (subs['A'] ** 0.5)"
   ]
  },
  {
   "cell_type": "code",
   "execution_count": 10,
   "id": "diagnostic-demand",
   "metadata": {},
   "outputs": [],
   "source": [
    "# classify relief by specific height difference\n",
    "subs.loc[subs['Ds'] < 10, 'relief'] = 'R1'\n",
    "subs.loc[(10 < subs['Ds']) & (subs['Ds'] < 25), 'relief'] = 'R2'\n",
    "subs.loc[(25 < subs['Ds']) & (subs['Ds'] < 50), 'relief'] = 'R3'\n",
    "subs.loc[(50 < subs['Ds']) & (subs['Ds'] < 100), 'relief'] = 'R4'\n",
    "subs.loc[(100 < subs['Ds']) & (subs['Ds'] < 250), 'relief'] = 'R5'\n",
    "subs.loc[(250 < subs['Ds']) & (subs['Ds'] < 500), 'relief'] = 'R6'\n",
    "subs.loc[subs['Ds'] > 500, 'relief'] = 'R7'"
   ]
  },
  {
   "cell_type": "code",
   "execution_count": 11,
   "id": "addressed-relief",
   "metadata": {},
   "outputs": [
    {
     "data": {
      "text/plain": [
       "array(['R3', 'R4', 'R2'], dtype=object)"
      ]
     },
     "execution_count": 11,
     "metadata": {},
     "output_type": "execute_result"
    }
   ],
   "source": [
    "# check relief classes in sota\n",
    "subs['relief'].unique()"
   ]
  },
  {
   "cell_type": "code",
   "execution_count": 12,
   "id": "immediate-tourism",
   "metadata": {},
   "outputs": [],
   "source": [
    "# create new dataframe of relif classes of sota\n",
    "relief_sota_class = subs[['PolygonId', 'relief', 'geometry']].to_crs('EPSG:4326')"
   ]
  },
  {
   "cell_type": "code",
   "execution_count": 13,
   "id": "ideal-interstate",
   "metadata": {},
   "outputs": [],
   "source": [
    "# categorize by sensibility of relief classes to water\n",
    "r_conditions_ = [(relief_sota_class['relief'] == 'R2'),\n",
    "                  (relief_sota_class['relief'] == 'R3'),\n",
    "                  (relief_sota_class['relief'] == 'R4')\n",
    "                 ]\n",
    "r_choices_ = [3, 2, 1]\n",
    "relief_sota_class['W_Type'] = np.select(r_conditions_, r_choices_, default=None)"
   ]
  },
  {
   "cell_type": "code",
   "execution_count": 14,
   "id": "acquired-chaos",
   "metadata": {},
   "outputs": [],
   "source": [
    "# dissolve relief data with water type column\n",
    "relief_sota_class = relief_sota_class.dissolve(by='W_Type').reset_index()"
   ]
  },
  {
   "cell_type": "code",
   "execution_count": 15,
   "id": "tender-poetry",
   "metadata": {},
   "outputs": [
    {
     "data": {
      "text/plain": [
       "<AxesSubplot:>"
      ]
     },
     "execution_count": 15,
     "metadata": {},
     "output_type": "execute_result"
    },
    {
     "data": {
      "image/png": "[encoded data removed]",
      "text/plain": [
       "<Figure size 432x288 with 1 Axes>"
      ]
     },
     "metadata": {
      "needs_background": "light"
     },
     "output_type": "display_data"
    }
   ],
   "source": [
    "# plot categorized relief\n",
    "relief_sota_class.plot(column='W_Type')"
   ]
  },
  {
   "cell_type": "code",
   "execution_count": 16,
   "id": "respected-resource",
   "metadata": {},
   "outputs": [],
   "source": [
    "# export to homogeneous relief zones of sota\n",
    "#relief_sota_class.to_file('./data/output/homogeneous_relief_zone.shp')"
   ]
  }
 ],
 "metadata": {
  "kernelspec": {
   "display_name": "Python 3",
   "language": "python",
   "name": "python3"
  },
  "language_info": {
   "codemirror_mode": {
    "name": "ipython",
    "version": 3
   },
   "file_extension": ".py",
   "mimetype": "text/x-python",
   "name": "python",
   "nbconvert_exporter": "python",
   "pygments_lexer": "ipython3",
   "version": "3.9.2"
  }
 },
 "nbformat": 4,
 "nbformat_minor": 5
}
