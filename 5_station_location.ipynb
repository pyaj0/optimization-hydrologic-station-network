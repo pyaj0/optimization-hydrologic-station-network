{
 "cells": [
  {
   "cell_type": "code",
   "execution_count": 1,
   "id": "pressed-shower",
   "metadata": {},
   "outputs": [],
   "source": [
    "# import libraries\n",
    "import itertools\n",
    "import numpy as np\n",
    "import pandas as pd\n",
    "import geopandas as gpd\n",
    "from geopandas.tools import sjoin\n",
    "import rasterio\n",
    "from rasterio import transform\n",
    "from sklearn.cluster import DBSCAN\n",
    "from shapely.geometry import MultiPoint\n",
    "from shapely.geometry import Point\n",
    "from geopy.distance import great_circle\n",
    "import matplotlib.pyplot as plt\n",
    "%matplotlib inline"
   ]
  },
  {
   "cell_type": "code",
   "execution_count": 2,
   "id": "determined-devon",
   "metadata": {},
   "outputs": [],
   "source": [
    "# load sota basin shapefile\n",
    "river = gpd.read_file('./data/input/river_sota.shp')"
   ]
  },
  {
   "cell_type": "code",
   "execution_count": 3,
   "id": "veterinary-missile",
   "metadata": {},
   "outputs": [],
   "source": [
    "# load sota sub basins shapefile and reproject to EPSG:4326\n",
    "subs = gpd.read_file('./data/input/sub_basins_sota.shp').to_crs('EPSG:4326')"
   ]
  },
  {
   "cell_type": "code",
   "execution_count": 4,
   "id": "geological-greenhouse",
   "metadata": {},
   "outputs": [],
   "source": [
    "# load sota forest shapefile\n",
    "forest = gpd.read_file('./data/input/forest_sota.shp')"
   ]
  },
  {
   "cell_type": "code",
   "execution_count": 5,
   "id": "rotary-motel",
   "metadata": {},
   "outputs": [],
   "source": [
    "# load sota forest shapefile\n",
    "road = gpd.read_file('./data/input/road_sota.shp')"
   ]
  },
  {
   "cell_type": "code",
   "execution_count": 6,
   "id": "exact-reliance",
   "metadata": {},
   "outputs": [],
   "source": [
    "# load difference between theoretically homogeneous hydrological zones of sota\n",
    "thhz_diff = rasterio.open('./data/output/thhz_diff.tif')"
   ]
  },
  {
   "cell_type": "markdown",
   "id": "musical-trauma",
   "metadata": {},
   "source": [
    "# Find main river jonction"
   ]
  },
  {
   "cell_type": "code",
   "execution_count": 7,
   "id": "superior-postcard",
   "metadata": {},
   "outputs": [],
   "source": [
    "# select main rivers (the ones with labeled names) in sota\n",
    "main_river = river[(river['TYPE'] == 'CEP') | (river['TYPE'] == 'CEI')]"
   ]
  },
  {
   "cell_type": "code",
   "execution_count": 8,
   "id": "answering-breed",
   "metadata": {},
   "outputs": [],
   "source": [
    "# define projection system\n",
    "crs = 'EPSG:4326'"
   ]
  },
  {
   "cell_type": "code",
   "execution_count": 9,
   "id": "humanitarian-correlation",
   "metadata": {},
   "outputs": [],
   "source": [
    "# get river intersection\n",
    "s = pd.Series(main_river.geometry.values, index=main_river.index).to_dict() # create a dictionary with index as key and geometry as value\n",
    "\n",
    "intersections = []\n",
    "for i in itertools.combinations(s, 2): # for all pairwise combination of river indixes (dont do this with very large datasets..)\n",
    "    i1, i2 = i\n",
    "    if s[i1].intersects(s[i2]): # if they intersect\n",
    "        intersections.append([i1, i2, s[i1].intersection(s[i2])]) \n",
    "        # store their indexes and intersection geometry (should be points) as a list of lists"
   ]
  },
  {
   "cell_type": "code",
   "execution_count": 10,
   "id": "copyrighted-stevens",
   "metadata": {},
   "outputs": [],
   "source": [
    "# convert river intersection to geodataframe\n",
    "inter_r = gpd.GeoDataFrame(pd.DataFrame(data=intersections, \n",
    "                                        columns=['first_line','second_line','geometry']),\n",
    "                           geometry='geometry', crs=crs)"
   ]
  },
  {
   "cell_type": "code",
   "execution_count": 11,
   "id": "blessed-selection",
   "metadata": {},
   "outputs": [],
   "source": [
    "# simplify multipoints, linestrings and other geometries to points\n",
    "inter_r['geometry'] = inter_r.representative_point()"
   ]
  },
  {
   "cell_type": "markdown",
   "id": "behind-kitchen",
   "metadata": {},
   "source": [
    "# Extract coordinates of thhz difference band"
   ]
  },
  {
   "cell_type": "code",
   "execution_count": 12,
   "id": "interracial-equivalent",
   "metadata": {},
   "outputs": [],
   "source": [
    "# read raster band\n",
    "band_diff = thhz_diff.read(1)"
   ]
  },
  {
   "cell_type": "code",
   "execution_count": 13,
   "id": "serious-appreciation",
   "metadata": {},
   "outputs": [
    {
     "data": {
      "text/html": [
       "<div>\n",
       "<style scoped>\n",
       "    .dataframe tbody tr th:only-of-type {\n",
       "        vertical-align: middle;\n",
       "    }\n",
       "\n",
       "    .dataframe tbody tr th {\n",
       "        vertical-align: top;\n",
       "    }\n",
       "\n",
       "    .dataframe thead th {\n",
       "        text-align: right;\n",
       "    }\n",
       "</style>\n",
       "<table border=\"1\" class=\"dataframe\">\n",
       "  <thead>\n",
       "    <tr style=\"text-align: right;\">\n",
       "      <th></th>\n",
       "      <th>values</th>\n",
       "      <th>counts</th>\n",
       "    </tr>\n",
       "  </thead>\n",
       "  <tbody>\n",
       "    <tr>\n",
       "      <th>0</th>\n",
       "      <td>-7.0</td>\n",
       "      <td>10</td>\n",
       "    </tr>\n",
       "    <tr>\n",
       "      <th>1</th>\n",
       "      <td>-6.0</td>\n",
       "      <td>203</td>\n",
       "    </tr>\n",
       "    <tr>\n",
       "      <th>2</th>\n",
       "      <td>-5.0</td>\n",
       "      <td>126</td>\n",
       "    </tr>\n",
       "    <tr>\n",
       "      <th>3</th>\n",
       "      <td>-4.0</td>\n",
       "      <td>172</td>\n",
       "    </tr>\n",
       "    <tr>\n",
       "      <th>4</th>\n",
       "      <td>-3.0</td>\n",
       "      <td>4582</td>\n",
       "    </tr>\n",
       "    <tr>\n",
       "      <th>5</th>\n",
       "      <td>-2.0</td>\n",
       "      <td>2565</td>\n",
       "    </tr>\n",
       "    <tr>\n",
       "      <th>6</th>\n",
       "      <td>-1.0</td>\n",
       "      <td>4603</td>\n",
       "    </tr>\n",
       "    <tr>\n",
       "      <th>7</th>\n",
       "      <td>0.0</td>\n",
       "      <td>2088976</td>\n",
       "    </tr>\n",
       "    <tr>\n",
       "      <th>8</th>\n",
       "      <td>1.0</td>\n",
       "      <td>4933</td>\n",
       "    </tr>\n",
       "    <tr>\n",
       "      <th>9</th>\n",
       "      <td>2.0</td>\n",
       "      <td>2544</td>\n",
       "    </tr>\n",
       "    <tr>\n",
       "      <th>10</th>\n",
       "      <td>3.0</td>\n",
       "      <td>4580</td>\n",
       "    </tr>\n",
       "    <tr>\n",
       "      <th>11</th>\n",
       "      <td>4.0</td>\n",
       "      <td>308</td>\n",
       "    </tr>\n",
       "    <tr>\n",
       "      <th>12</th>\n",
       "      <td>5.0</td>\n",
       "      <td>51</td>\n",
       "    </tr>\n",
       "    <tr>\n",
       "      <th>13</th>\n",
       "      <td>6.0</td>\n",
       "      <td>137</td>\n",
       "    </tr>\n",
       "    <tr>\n",
       "      <th>14</th>\n",
       "      <td>7.0</td>\n",
       "      <td>1</td>\n",
       "    </tr>\n",
       "  </tbody>\n",
       "</table>\n",
       "</div>"
      ],
      "text/plain": [
       "    values   counts\n",
       "0     -7.0       10\n",
       "1     -6.0      203\n",
       "2     -5.0      126\n",
       "3     -4.0      172\n",
       "4     -3.0     4582\n",
       "5     -2.0     2565\n",
       "6     -1.0     4603\n",
       "7      0.0  2088976\n",
       "8      1.0     4933\n",
       "9      2.0     2544\n",
       "10     3.0     4580\n",
       "11     4.0      308\n",
       "12     5.0       51\n",
       "13     6.0      137\n",
       "14     7.0        1"
      ]
     },
     "execution_count": 13,
     "metadata": {},
     "output_type": "execute_result"
    }
   ],
   "source": [
    "# inspect raster band by counting pixel values\n",
    "values, counts = np.unique(band_diff.reshape(-1), \n",
    "                           return_counts = True, \n",
    "                           axis = 0)\n",
    "pd.DataFrame(zip(values, counts), columns=['values', 'counts'])"
   ]
  },
  {
   "cell_type": "code",
   "execution_count": 14,
   "id": "greenhouse-bottle",
   "metadata": {},
   "outputs": [],
   "source": [
    "# extract longitude and latitudes of list of raster pixel values\n",
    "def coordinates_and_values(raster, pixel_values):\n",
    "    \"\"\"\n",
    "    this function extracts longitude and latitudes of list of raster pixel values\n",
    "    raster: load raster with rasterio\n",
    "    pixel_values: list of pixel values \n",
    "    exception: pixel value must be found more than one time in raster else len of float error\n",
    "    \"\"\"\n",
    "    df = pd.DataFrame() # create dataframe\n",
    "    raster_band = raster.read(1) # read raster band\n",
    "    for i in pixel_values: # iterate between list of pixel values\n",
    "        rows, cols = np.where(raster_band == i) # extract row and column numbers for each pixel\n",
    "        rows, cols = transform.xy(raster.transform, rows, cols) # transform row and column numbers to coordinates\n",
    "        values = np.array([i] * len(rows)) # create array containing n pixel value of n coordinates\n",
    "        df_i = pd.DataFrame(zip(rows, cols, values), columns=['lon','lat', 'pixel']) # create dataframe for one pixel value\n",
    "        df = df.append(df_i) # append to get dataframe of lon and lat of list of pixel values\n",
    "    return df"
   ]
  },
  {
   "cell_type": "code",
   "execution_count": 15,
   "id": "derived-compiler",
   "metadata": {
    "scrolled": true
   },
   "outputs": [],
   "source": [
    "# execute function extracting pixel values different than 0 and rest index\n",
    "thhz_value = coordinates_and_values(thhz_diff, [-6, -5, -4, -3, -2, -1, 1, 2, 3, 4, 5, 6])\n",
    "thhz_value = thhz_value.reset_index().drop('index', axis=1)"
   ]
  },
  {
   "cell_type": "code",
   "execution_count": 16,
   "id": "posted-programmer",
   "metadata": {},
   "outputs": [],
   "source": [
    "# convert dataframe to geodataframe\n",
    "geometry = [Point(xy) for xy in zip(thhz_value.lon, thhz_value.lat)]\n",
    "thhz_value = gpd.GeoDataFrame(thhz_value, crs=crs, geometry=geometry)"
   ]
  },
  {
   "cell_type": "code",
   "execution_count": 17,
   "id": "cooperative-optimization",
   "metadata": {},
   "outputs": [],
   "source": [
    "# only have positive values of pixels\n",
    "thhz_value['pixel'] = np.abs(thhz_value['pixel'])"
   ]
  },
  {
   "cell_type": "markdown",
   "id": "backed-blogger",
   "metadata": {},
   "source": [
    "# Intersect river and thhz difference"
   ]
  },
  {
   "cell_type": "code",
   "execution_count": 18,
   "id": "stopped-reputation",
   "metadata": {},
   "outputs": [
    {
     "name": "stderr",
     "output_type": "stream",
     "text": [
      "<ipython-input-18-2be2517dee22>:3: UserWarning: Geometry is in a geographic CRS. Results from 'buffer' are likely incorrect. Use 'GeoSeries.to_crs()' to re-project geometries to a projected CRS before this operation.\n",
      "\n",
      "  inter_buf['buffered'] = inter_r['geometry'].buffer(0.01)\n"
     ]
    }
   ],
   "source": [
    "# add buffer to river intersection to easily find intersection with thhz coordinates\n",
    "inter_buf = inter_r\n",
    "inter_buf['buffered'] = inter_r['geometry'].buffer(0.01)"
   ]
  },
  {
   "cell_type": "code",
   "execution_count": 19,
   "id": "veterinary-deployment",
   "metadata": {},
   "outputs": [],
   "source": [
    "# set buffered polygone as geometry\n",
    "inter_buf = inter_buf.set_geometry('buffered')"
   ]
  },
  {
   "cell_type": "code",
   "execution_count": 20,
   "id": "suitable-roads",
   "metadata": {},
   "outputs": [],
   "source": [
    "# clip thhz coordinates with river intersection\n",
    "clip = gpd.clip(thhz_value, inter_buf)"
   ]
  },
  {
   "cell_type": "code",
   "execution_count": 21,
   "id": "rising-buffer",
   "metadata": {},
   "outputs": [
    {
     "data": {
      "text/plain": [
       "<AxesSubplot:>"
      ]
     },
     "execution_count": 21,
     "metadata": {},
     "output_type": "execute_result"
    },
    {
     "data": {
      "image/png": "[encoded data removed]",
      "text/plain": [
       "<Figure size 432x288 with 1 Axes>"
      ]
     },
     "metadata": {
      "needs_background": "light"
     },
     "output_type": "display_data"
    }
   ],
   "source": [
    "# plot sota sub basins, thhz coordinates and river intersection\n",
    "base = subs.boundary.plot(color='black', linewidth=0.1)\n",
    "inter_buf.plot(ax=base, color='red', markersize=5, zorder=2)\n",
    "thhz_value.plot(ax=base, markersize=0.1, color='blue')"
   ]
  },
  {
   "cell_type": "code",
   "execution_count": 22,
   "id": "skilled-music",
   "metadata": {},
   "outputs": [
    {
     "data": {
      "text/plain": [
       "<AxesSubplot:>"
      ]
     },
     "execution_count": 22,
     "metadata": {},
     "output_type": "execute_result"
    },
    {
     "data": {
      "image/png": "[encoded data removed]",
      "text/plain": [
       "<Figure size 432x288 with 2 Axes>"
      ]
     },
     "metadata": {
      "needs_background": "light"
     },
     "output_type": "display_data"
    }
   ],
   "source": [
    "# plot sota sub basins and clipped points\n",
    "base = subs.boundary.plot(color='black', linewidth=0.1)\n",
    "clip.plot(ax=base, column='pixel', markersize=20, legend=True, zorder=2)"
   ]
  },
  {
   "cell_type": "markdown",
   "id": "headed-breakfast",
   "metadata": {},
   "source": [
    "# Cluster nearby stations"
   ]
  },
  {
   "cell_type": "code",
   "execution_count": 23,
   "id": "angry-calgary",
   "metadata": {},
   "outputs": [],
   "source": [
    "# https://geoffboeing.com/2014/08/clustering-to-reduce-spatial-data-set-size/\n",
    "# get coordinates\n",
    "coords = clip[['lat','lon']].values"
   ]
  },
  {
   "cell_type": "code",
   "execution_count": 24,
   "id": "political-procurement",
   "metadata": {},
   "outputs": [
    {
     "name": "stdout",
     "output_type": "stream",
     "text": [
      "Number of clusters: 9\n"
     ]
    }
   ],
   "source": [
    "# set max distance to 10 km from each other\n",
    "kms_per_radian = 6371.0088\n",
    "epsilon = 10 / kms_per_radian\n",
    "# compute dbscan\n",
    "db = DBSCAN(eps=epsilon, min_samples=1, algorithm='ball_tree', metric='haversine').fit(np.radians(coords))\n",
    "# get number of clusters\n",
    "cluster_labels = db.labels_\n",
    "num_clusters = len(set(cluster_labels))\n",
    "clusters = pd.Series([coords[cluster_labels == n] for n in range(num_clusters)])\n",
    "print('Number of clusters: {}'.format(num_clusters))"
   ]
  },
  {
   "cell_type": "code",
   "execution_count": 25,
   "id": "particular-blank",
   "metadata": {},
   "outputs": [],
   "source": [
    "# finding each cluter's center-most point\n",
    "def get_centermost_point(cluster):\n",
    "    centroid = (MultiPoint(cluster).centroid.x, MultiPoint(cluster).centroid.y)\n",
    "    centermost_point = min(cluster, key=lambda point: great_circle(point, centroid).m)\n",
    "    return tuple(centermost_point)"
   ]
  },
  {
   "cell_type": "code",
   "execution_count": 26,
   "id": "annual-dayton",
   "metadata": {},
   "outputs": [],
   "source": [
    "centermost_points = clusters.map(get_centermost_point)"
   ]
  },
  {
   "cell_type": "code",
   "execution_count": 27,
   "id": "national-phone",
   "metadata": {},
   "outputs": [],
   "source": [
    "# convert cluster center to dataframe\n",
    "lats, lons = zip(*centermost_points)\n",
    "rep_points = pd.DataFrame({'lon':lons, 'lat':lats})"
   ]
  },
  {
   "cell_type": "code",
   "execution_count": 28,
   "id": "deluxe-compilation",
   "metadata": {},
   "outputs": [],
   "source": [
    "# link cluster to clipped dataframe\n",
    "rs = rep_points.apply(lambda row: clip[(clip['lat']==row['lat']) | (clip['lon']==row['lon'])].iloc[0], axis=1)"
   ]
  },
  {
   "cell_type": "code",
   "execution_count": 29,
   "id": "verified-fourth",
   "metadata": {},
   "outputs": [
    {
     "data": {
      "image/png": "[encoded data removed]",
      "text/plain": [
       "<Figure size 432x432 with 1 Axes>"
      ]
     },
     "metadata": {
      "needs_background": "light"
     },
     "output_type": "display_data"
    }
   ],
   "source": [
    "# plot all stations vs clustered stations\n",
    "fig, ax = plt.subplots(figsize=[6, 6])\n",
    "rs_scatter = ax.scatter(rs['lon'], rs['lat'], c='#99cc99', edgecolor='None', alpha=0.7, s=120)\n",
    "df_scatter = ax.scatter(clip['lon'], clip['lat'], c='k', alpha=0.9, s=3)\n",
    "ax.set_xlabel('Longitude')\n",
    "ax.set_ylabel('Latitude')\n",
    "ax.legend([df_scatter, rs_scatter], ['All stations', 'Clustered stations'], loc='upper right')\n",
    "plt.show()"
   ]
  },
  {
   "cell_type": "code",
   "execution_count": 30,
   "id": "portable-witness",
   "metadata": {},
   "outputs": [],
   "source": [
    "# convert clustered dataframe to geodataframe\n",
    "cluster = gpd.GeoDataFrame(rs, crs=crs, geometry=rs['geometry'])"
   ]
  },
  {
   "cell_type": "code",
   "execution_count": 31,
   "id": "noted-address",
   "metadata": {},
   "outputs": [
    {
     "data": {
      "text/plain": [
       "<AxesSubplot:>"
      ]
     },
     "execution_count": 31,
     "metadata": {},
     "output_type": "execute_result"
    },
    {
     "data": {
      "image/png": "[encoded data removed]",
      "text/plain": [
       "<Figure size 432x288 with 2 Axes>"
      ]
     },
     "metadata": {
      "needs_background": "light"
     },
     "output_type": "display_data"
    }
   ],
   "source": [
    "# plot sota sub basins and clipped points\n",
    "base = subs.boundary.plot(color='black', linewidth=0.1)\n",
    "cluster.plot(ax=base, column='pixel', markersize=20, legend=True, zorder=2)"
   ]
  },
  {
   "cell_type": "markdown",
   "id": "productive-above",
   "metadata": {},
   "source": [
    "# Prioritize stations"
   ]
  },
  {
   "cell_type": "code",
   "execution_count": 32,
   "id": "appointed-buyer",
   "metadata": {},
   "outputs": [],
   "source": [
    "# reproject road to EPSG:4326\n",
    "road_crs = road.to_crs(crs)"
   ]
  },
  {
   "cell_type": "code",
   "execution_count": 33,
   "id": "sealed-insured",
   "metadata": {},
   "outputs": [],
   "source": [
    "# create forest column where stations gets value 1 if they are in forest with forest_id\n",
    "cluster = gpd.sjoin(cluster, forest.loc[:, ['geometry']], how='left').assign(\n",
    "    forest=lambda d: (~d['index_right'].isna()).astype(int)\n",
    ")"
   ]
  },
  {
   "cell_type": "code",
   "execution_count": 34,
   "id": "rational-focus",
   "metadata": {},
   "outputs": [],
   "source": [
    "# rename index_right column to forest_id\n",
    "cluster = cluster.rename(columns={'index_right': 'forest_id'})"
   ]
  },
  {
   "cell_type": "code",
   "execution_count": 35,
   "id": "colonial-cream",
   "metadata": {},
   "outputs": [],
   "source": [
    "# swap 0 with 1 and 1 with 0 in forest column\n",
    "cluster['forest'] =  np.where(cluster['forest'] == 1, 0, 1)"
   ]
  },
  {
   "cell_type": "code",
   "execution_count": 36,
   "id": "facial-small",
   "metadata": {},
   "outputs": [
    {
     "data": {
      "text/plain": [
       "<AxesSubplot:>"
      ]
     },
     "execution_count": 36,
     "metadata": {},
     "output_type": "execute_result"
    },
    {
     "data": {
      "image/png": "[encoded data removed]",
      "text/plain": [
       "<Figure size 432x288 with 2 Axes>"
      ]
     },
     "metadata": {
      "needs_background": "light"
     },
     "output_type": "display_data"
    }
   ],
   "source": [
    "# plot stations with sota forests\n",
    "base = forest.boundary.plot(color='black', linewidth=0.2)\n",
    "cluster.plot(ax=base, column='forest', markersize=20, legend=True, zorder=2)"
   ]
  },
  {
   "cell_type": "code",
   "execution_count": 37,
   "id": "remarkable-sample",
   "metadata": {},
   "outputs": [],
   "source": [
    "# add buffer to river intersection to easily find intersection with thhz coordinates\n",
    "# add 500m buffer to road\n",
    "road_buf = road\n",
    "road_buf['buffered'] = road['geometry'].buffer(1000)"
   ]
  },
  {
   "cell_type": "code",
   "execution_count": 38,
   "id": "stuffed-multimedia",
   "metadata": {},
   "outputs": [],
   "source": [
    "# set buffered polygone as geometry\n",
    "road_buf['geometry'] = road_buf['buffered']"
   ]
  },
  {
   "cell_type": "code",
   "execution_count": 39,
   "id": "liked-security",
   "metadata": {},
   "outputs": [],
   "source": [
    "# convert buffered road projection to EPSG:4326\n",
    "road_buf = road_buf.to_crs(crs)"
   ]
  },
  {
   "cell_type": "code",
   "execution_count": 40,
   "id": "illegal-measurement",
   "metadata": {},
   "outputs": [],
   "source": [
    "# create road column where stations gets value 1 if they are on road with road_id\n",
    "cluster = gpd.sjoin(cluster, road_buf.loc[:, ['geometry']], how='left').assign(\n",
    "    road=lambda d: (~d['index_right'].isna()).astype(int)\n",
    ")"
   ]
  },
  {
   "cell_type": "code",
   "execution_count": 41,
   "id": "widespread-specification",
   "metadata": {},
   "outputs": [],
   "source": [
    "# rename index_right column to road_id\n",
    "cluster = cluster.rename(columns={'index_right': 'road_id'})"
   ]
  },
  {
   "cell_type": "code",
   "execution_count": 42,
   "id": "curious-probability",
   "metadata": {},
   "outputs": [
    {
     "data": {
      "text/plain": [
       "<AxesSubplot:>"
      ]
     },
     "execution_count": 42,
     "metadata": {},
     "output_type": "execute_result"
    },
    {
     "data": {
      "image/png": "[encoded data removed]",
      "text/plain": [
       "<Figure size 432x288 with 2 Axes>"
      ]
     },
     "metadata": {
      "needs_background": "light"
     },
     "output_type": "display_data"
    }
   ],
   "source": [
    "# plot stations with sota roads\n",
    "base = road_buf.boundary.plot(color='black', linewidth=0.2)\n",
    "cluster.plot(ax=base, column='road', markersize=20, legend=True, zorder=2)"
   ]
  },
  {
   "cell_type": "code",
   "execution_count": 43,
   "id": "excited-edwards",
   "metadata": {},
   "outputs": [
    {
     "data": {
      "text/html": [
       "<div>\n",
       "<style scoped>\n",
       "    .dataframe tbody tr th:only-of-type {\n",
       "        vertical-align: middle;\n",
       "    }\n",
       "\n",
       "    .dataframe tbody tr th {\n",
       "        vertical-align: top;\n",
       "    }\n",
       "\n",
       "    .dataframe thead th {\n",
       "        text-align: right;\n",
       "    }\n",
       "</style>\n",
       "<table border=\"1\" class=\"dataframe\">\n",
       "  <thead>\n",
       "    <tr style=\"text-align: right;\">\n",
       "      <th></th>\n",
       "      <th>lon</th>\n",
       "      <th>lat</th>\n",
       "      <th>pixel</th>\n",
       "      <th>geometry</th>\n",
       "      <th>forest_id</th>\n",
       "      <th>forest</th>\n",
       "      <th>road_id</th>\n",
       "      <th>road</th>\n",
       "    </tr>\n",
       "  </thead>\n",
       "  <tbody>\n",
       "    <tr>\n",
       "      <th>0</th>\n",
       "      <td>3.391338</td>\n",
       "      <td>11.399424</td>\n",
       "      <td>1</td>\n",
       "      <td>POINT (3.39134 11.39942)</td>\n",
       "      <td>NaN</td>\n",
       "      <td>1</td>\n",
       "      <td>74.0</td>\n",
       "      <td>1</td>\n",
       "    </tr>\n",
       "    <tr>\n",
       "      <th>1</th>\n",
       "      <td>3.409338</td>\n",
       "      <td>10.655424</td>\n",
       "      <td>3</td>\n",
       "      <td>POINT (3.40934 10.65542)</td>\n",
       "      <td>4.0</td>\n",
       "      <td>0</td>\n",
       "      <td>NaN</td>\n",
       "      <td>0</td>\n",
       "    </tr>\n",
       "    <tr>\n",
       "      <th>2</th>\n",
       "      <td>3.222338</td>\n",
       "      <td>10.667424</td>\n",
       "      <td>2</td>\n",
       "      <td>POINT (3.22234 10.66742)</td>\n",
       "      <td>NaN</td>\n",
       "      <td>1</td>\n",
       "      <td>210.0</td>\n",
       "      <td>1</td>\n",
       "    </tr>\n",
       "    <tr>\n",
       "      <th>3</th>\n",
       "      <td>2.764338</td>\n",
       "      <td>10.184424</td>\n",
       "      <td>2</td>\n",
       "      <td>POINT (2.76434 10.18442)</td>\n",
       "      <td>NaN</td>\n",
       "      <td>1</td>\n",
       "      <td>131.0</td>\n",
       "      <td>1</td>\n",
       "    </tr>\n",
       "    <tr>\n",
       "      <th>4</th>\n",
       "      <td>3.244338</td>\n",
       "      <td>11.143424</td>\n",
       "      <td>1</td>\n",
       "      <td>POINT (3.24434 11.14342)</td>\n",
       "      <td>NaN</td>\n",
       "      <td>1</td>\n",
       "      <td>NaN</td>\n",
       "      <td>0</td>\n",
       "    </tr>\n",
       "    <tr>\n",
       "      <th>5</th>\n",
       "      <td>2.976338</td>\n",
       "      <td>10.593424</td>\n",
       "      <td>1</td>\n",
       "      <td>POINT (2.97634 10.59342)</td>\n",
       "      <td>4.0</td>\n",
       "      <td>0</td>\n",
       "      <td>NaN</td>\n",
       "      <td>0</td>\n",
       "    </tr>\n",
       "    <tr>\n",
       "      <th>6</th>\n",
       "      <td>3.091338</td>\n",
       "      <td>10.444424</td>\n",
       "      <td>1</td>\n",
       "      <td>POINT (3.09134 10.44442)</td>\n",
       "      <td>4.0</td>\n",
       "      <td>0</td>\n",
       "      <td>NaN</td>\n",
       "      <td>0</td>\n",
       "    </tr>\n",
       "    <tr>\n",
       "      <th>7</th>\n",
       "      <td>3.200338</td>\n",
       "      <td>10.925424</td>\n",
       "      <td>1</td>\n",
       "      <td>POINT (3.20034 10.92542)</td>\n",
       "      <td>NaN</td>\n",
       "      <td>1</td>\n",
       "      <td>NaN</td>\n",
       "      <td>0</td>\n",
       "    </tr>\n",
       "    <tr>\n",
       "      <th>8</th>\n",
       "      <td>3.152338</td>\n",
       "      <td>10.406424</td>\n",
       "      <td>1</td>\n",
       "      <td>POINT (3.15234 10.40642)</td>\n",
       "      <td>4.0</td>\n",
       "      <td>0</td>\n",
       "      <td>NaN</td>\n",
       "      <td>0</td>\n",
       "    </tr>\n",
       "  </tbody>\n",
       "</table>\n",
       "</div>"
      ],
      "text/plain": [
       "        lon        lat  pixel                  geometry  forest_id  forest  \\\n",
       "0  3.391338  11.399424      1  POINT (3.39134 11.39942)        NaN       1   \n",
       "1  3.409338  10.655424      3  POINT (3.40934 10.65542)        4.0       0   \n",
       "2  3.222338  10.667424      2  POINT (3.22234 10.66742)        NaN       1   \n",
       "3  2.764338  10.184424      2  POINT (2.76434 10.18442)        NaN       1   \n",
       "4  3.244338  11.143424      1  POINT (3.24434 11.14342)        NaN       1   \n",
       "5  2.976338  10.593424      1  POINT (2.97634 10.59342)        4.0       0   \n",
       "6  3.091338  10.444424      1  POINT (3.09134 10.44442)        4.0       0   \n",
       "7  3.200338  10.925424      1  POINT (3.20034 10.92542)        NaN       1   \n",
       "8  3.152338  10.406424      1  POINT (3.15234 10.40642)        4.0       0   \n",
       "\n",
       "   road_id  road  \n",
       "0     74.0     1  \n",
       "1      NaN     0  \n",
       "2    210.0     1  \n",
       "3    131.0     1  \n",
       "4      NaN     0  \n",
       "5      NaN     0  \n",
       "6      NaN     0  \n",
       "7      NaN     0  \n",
       "8      NaN     0  "
      ]
     },
     "execution_count": 43,
     "metadata": {},
     "output_type": "execute_result"
    }
   ],
   "source": [
    "cluster"
   ]
  },
  {
   "cell_type": "code",
   "execution_count": 44,
   "id": "embedded-vacation",
   "metadata": {},
   "outputs": [],
   "source": [
    "# priority stations from thhz pixel values, forest and road accessibility\n",
    "cluster['priority'] = cluster['pixel'] + cluster['forest'] + cluster['road']"
   ]
  },
  {
   "cell_type": "code",
   "execution_count": 45,
   "id": "generic-abuse",
   "metadata": {},
   "outputs": [
    {
     "data": {
      "text/html": [
       "<div>\n",
       "<style scoped>\n",
       "    .dataframe tbody tr th:only-of-type {\n",
       "        vertical-align: middle;\n",
       "    }\n",
       "\n",
       "    .dataframe tbody tr th {\n",
       "        vertical-align: top;\n",
       "    }\n",
       "\n",
       "    .dataframe thead th {\n",
       "        text-align: right;\n",
       "    }\n",
       "</style>\n",
       "<table border=\"1\" class=\"dataframe\">\n",
       "  <thead>\n",
       "    <tr style=\"text-align: right;\">\n",
       "      <th></th>\n",
       "      <th>lon</th>\n",
       "      <th>lat</th>\n",
       "      <th>pixel</th>\n",
       "      <th>geometry</th>\n",
       "      <th>forest_id</th>\n",
       "      <th>forest</th>\n",
       "      <th>road_id</th>\n",
       "      <th>road</th>\n",
       "      <th>priority</th>\n",
       "    </tr>\n",
       "  </thead>\n",
       "  <tbody>\n",
       "    <tr>\n",
       "      <th>0</th>\n",
       "      <td>3.391338</td>\n",
       "      <td>11.399424</td>\n",
       "      <td>1</td>\n",
       "      <td>POINT (3.39134 11.39942)</td>\n",
       "      <td>NaN</td>\n",
       "      <td>1</td>\n",
       "      <td>74.0</td>\n",
       "      <td>1</td>\n",
       "      <td>3</td>\n",
       "    </tr>\n",
       "    <tr>\n",
       "      <th>1</th>\n",
       "      <td>3.409338</td>\n",
       "      <td>10.655424</td>\n",
       "      <td>3</td>\n",
       "      <td>POINT (3.40934 10.65542)</td>\n",
       "      <td>4.0</td>\n",
       "      <td>0</td>\n",
       "      <td>NaN</td>\n",
       "      <td>0</td>\n",
       "      <td>3</td>\n",
       "    </tr>\n",
       "    <tr>\n",
       "      <th>2</th>\n",
       "      <td>3.222338</td>\n",
       "      <td>10.667424</td>\n",
       "      <td>2</td>\n",
       "      <td>POINT (3.22234 10.66742)</td>\n",
       "      <td>NaN</td>\n",
       "      <td>1</td>\n",
       "      <td>210.0</td>\n",
       "      <td>1</td>\n",
       "      <td>4</td>\n",
       "    </tr>\n",
       "    <tr>\n",
       "      <th>3</th>\n",
       "      <td>2.764338</td>\n",
       "      <td>10.184424</td>\n",
       "      <td>2</td>\n",
       "      <td>POINT (2.76434 10.18442)</td>\n",
       "      <td>NaN</td>\n",
       "      <td>1</td>\n",
       "      <td>131.0</td>\n",
       "      <td>1</td>\n",
       "      <td>4</td>\n",
       "    </tr>\n",
       "    <tr>\n",
       "      <th>4</th>\n",
       "      <td>3.244338</td>\n",
       "      <td>11.143424</td>\n",
       "      <td>1</td>\n",
       "      <td>POINT (3.24434 11.14342)</td>\n",
       "      <td>NaN</td>\n",
       "      <td>1</td>\n",
       "      <td>NaN</td>\n",
       "      <td>0</td>\n",
       "      <td>2</td>\n",
       "    </tr>\n",
       "    <tr>\n",
       "      <th>5</th>\n",
       "      <td>2.976338</td>\n",
       "      <td>10.593424</td>\n",
       "      <td>1</td>\n",
       "      <td>POINT (2.97634 10.59342)</td>\n",
       "      <td>4.0</td>\n",
       "      <td>0</td>\n",
       "      <td>NaN</td>\n",
       "      <td>0</td>\n",
       "      <td>1</td>\n",
       "    </tr>\n",
       "    <tr>\n",
       "      <th>6</th>\n",
       "      <td>3.091338</td>\n",
       "      <td>10.444424</td>\n",
       "      <td>1</td>\n",
       "      <td>POINT (3.09134 10.44442)</td>\n",
       "      <td>4.0</td>\n",
       "      <td>0</td>\n",
       "      <td>NaN</td>\n",
       "      <td>0</td>\n",
       "      <td>1</td>\n",
       "    </tr>\n",
       "    <tr>\n",
       "      <th>7</th>\n",
       "      <td>3.200338</td>\n",
       "      <td>10.925424</td>\n",
       "      <td>1</td>\n",
       "      <td>POINT (3.20034 10.92542)</td>\n",
       "      <td>NaN</td>\n",
       "      <td>1</td>\n",
       "      <td>NaN</td>\n",
       "      <td>0</td>\n",
       "      <td>2</td>\n",
       "    </tr>\n",
       "    <tr>\n",
       "      <th>8</th>\n",
       "      <td>3.152338</td>\n",
       "      <td>10.406424</td>\n",
       "      <td>1</td>\n",
       "      <td>POINT (3.15234 10.40642)</td>\n",
       "      <td>4.0</td>\n",
       "      <td>0</td>\n",
       "      <td>NaN</td>\n",
       "      <td>0</td>\n",
       "      <td>1</td>\n",
       "    </tr>\n",
       "  </tbody>\n",
       "</table>\n",
       "</div>"
      ],
      "text/plain": [
       "        lon        lat  pixel                  geometry  forest_id  forest  \\\n",
       "0  3.391338  11.399424      1  POINT (3.39134 11.39942)        NaN       1   \n",
       "1  3.409338  10.655424      3  POINT (3.40934 10.65542)        4.0       0   \n",
       "2  3.222338  10.667424      2  POINT (3.22234 10.66742)        NaN       1   \n",
       "3  2.764338  10.184424      2  POINT (2.76434 10.18442)        NaN       1   \n",
       "4  3.244338  11.143424      1  POINT (3.24434 11.14342)        NaN       1   \n",
       "5  2.976338  10.593424      1  POINT (2.97634 10.59342)        4.0       0   \n",
       "6  3.091338  10.444424      1  POINT (3.09134 10.44442)        4.0       0   \n",
       "7  3.200338  10.925424      1  POINT (3.20034 10.92542)        NaN       1   \n",
       "8  3.152338  10.406424      1  POINT (3.15234 10.40642)        4.0       0   \n",
       "\n",
       "   road_id  road  priority  \n",
       "0     74.0     1         3  \n",
       "1      NaN     0         3  \n",
       "2    210.0     1         4  \n",
       "3    131.0     1         4  \n",
       "4      NaN     0         2  \n",
       "5      NaN     0         1  \n",
       "6      NaN     0         1  \n",
       "7      NaN     0         2  \n",
       "8      NaN     0         1  "
      ]
     },
     "execution_count": 45,
     "metadata": {},
     "output_type": "execute_result"
    }
   ],
   "source": [
    "# show hydrological station dataframe\n",
    "cluster"
   ]
  },
  {
   "cell_type": "code",
   "execution_count": 46,
   "id": "eight-butter",
   "metadata": {},
   "outputs": [
    {
     "data": {
      "image/png": "[encoded data removed]",
      "text/plain": [
       "<Figure size 720x216 with 8 Axes>"
      ]
     },
     "metadata": {
      "needs_background": "light"
     },
     "output_type": "display_data"
    }
   ],
   "source": [
    "# summary plot\n",
    "fig, axes = plt.subplots(1,4, figsize=(10,3), sharex=True, sharey=True)\n",
    "\n",
    "base = subs.boundary.plot(color='black', linewidth=0.1, ax=axes[0])\n",
    "cluster.plot(ax=base, column='pixel', markersize=20, legend=True, zorder=2)\n",
    "axes[0].set_title('THHZ')\n",
    "axes[0].set_xlabel('Longitude')\n",
    "axes[0].set_ylabel('Latitude')\n",
    "\n",
    "axes[1].set_title('Forest')\n",
    "base = forest.boundary.plot(color='black', linewidth=0.2, ax=axes[1])\n",
    "cluster.plot(ax=base, column='forest', markersize=20, legend=True, zorder=2)\n",
    "\n",
    "axes[2].set_title('Road')\n",
    "base = road_buf.boundary.plot(color='black', linewidth=0.2, ax=axes[2])\n",
    "cluster.plot(ax=base, column='road', markersize=20, legend=True, zorder=2)\n",
    "\n",
    "axes[3].set_title('Priority')\n",
    "base = subs.boundary.plot(color='black', linewidth=0.1, ax=axes[3])\n",
    "cluster.plot(ax=base, column='priority', markersize=20, legend=True, zorder=2)\n",
    "\n",
    "fig.tight_layout()\n",
    "plt.savefig('./images/staion_locations.png')"
   ]
  },
  {
   "cell_type": "code",
   "execution_count": 47,
   "id": "systematic-addition",
   "metadata": {},
   "outputs": [
    {
     "data": {
      "text/html": [
       "<div>\n",
       "<style scoped>\n",
       "    .dataframe tbody tr th:only-of-type {\n",
       "        vertical-align: middle;\n",
       "    }\n",
       "\n",
       "    .dataframe tbody tr th {\n",
       "        vertical-align: top;\n",
       "    }\n",
       "\n",
       "    .dataframe thead th {\n",
       "        text-align: right;\n",
       "    }\n",
       "</style>\n",
       "<table border=\"1\" class=\"dataframe\">\n",
       "  <thead>\n",
       "    <tr style=\"text-align: right;\">\n",
       "      <th></th>\n",
       "      <th>lon</th>\n",
       "      <th>lat</th>\n",
       "      <th>pixel</th>\n",
       "      <th>geometry</th>\n",
       "      <th>forest_id</th>\n",
       "      <th>forest</th>\n",
       "      <th>road_id</th>\n",
       "      <th>road</th>\n",
       "      <th>priority</th>\n",
       "    </tr>\n",
       "  </thead>\n",
       "  <tbody>\n",
       "    <tr>\n",
       "      <th>0</th>\n",
       "      <td>3.391338</td>\n",
       "      <td>11.399424</td>\n",
       "      <td>1</td>\n",
       "      <td>POINT (3.39134 11.39942)</td>\n",
       "      <td>NaN</td>\n",
       "      <td>1</td>\n",
       "      <td>74.0</td>\n",
       "      <td>1</td>\n",
       "      <td>3</td>\n",
       "    </tr>\n",
       "    <tr>\n",
       "      <th>1</th>\n",
       "      <td>3.409338</td>\n",
       "      <td>10.655424</td>\n",
       "      <td>3</td>\n",
       "      <td>POINT (3.40934 10.65542)</td>\n",
       "      <td>4.0</td>\n",
       "      <td>0</td>\n",
       "      <td>NaN</td>\n",
       "      <td>0</td>\n",
       "      <td>3</td>\n",
       "    </tr>\n",
       "    <tr>\n",
       "      <th>2</th>\n",
       "      <td>3.222338</td>\n",
       "      <td>10.667424</td>\n",
       "      <td>2</td>\n",
       "      <td>POINT (3.22234 10.66742)</td>\n",
       "      <td>NaN</td>\n",
       "      <td>1</td>\n",
       "      <td>210.0</td>\n",
       "      <td>1</td>\n",
       "      <td>4</td>\n",
       "    </tr>\n",
       "    <tr>\n",
       "      <th>3</th>\n",
       "      <td>2.764338</td>\n",
       "      <td>10.184424</td>\n",
       "      <td>2</td>\n",
       "      <td>POINT (2.76434 10.18442)</td>\n",
       "      <td>NaN</td>\n",
       "      <td>1</td>\n",
       "      <td>131.0</td>\n",
       "      <td>1</td>\n",
       "      <td>4</td>\n",
       "    </tr>\n",
       "    <tr>\n",
       "      <th>4</th>\n",
       "      <td>3.244338</td>\n",
       "      <td>11.143424</td>\n",
       "      <td>1</td>\n",
       "      <td>POINT (3.24434 11.14342)</td>\n",
       "      <td>NaN</td>\n",
       "      <td>1</td>\n",
       "      <td>NaN</td>\n",
       "      <td>0</td>\n",
       "      <td>2</td>\n",
       "    </tr>\n",
       "    <tr>\n",
       "      <th>5</th>\n",
       "      <td>2.976338</td>\n",
       "      <td>10.593424</td>\n",
       "      <td>1</td>\n",
       "      <td>POINT (2.97634 10.59342)</td>\n",
       "      <td>4.0</td>\n",
       "      <td>0</td>\n",
       "      <td>NaN</td>\n",
       "      <td>0</td>\n",
       "      <td>1</td>\n",
       "    </tr>\n",
       "    <tr>\n",
       "      <th>6</th>\n",
       "      <td>3.091338</td>\n",
       "      <td>10.444424</td>\n",
       "      <td>1</td>\n",
       "      <td>POINT (3.09134 10.44442)</td>\n",
       "      <td>4.0</td>\n",
       "      <td>0</td>\n",
       "      <td>NaN</td>\n",
       "      <td>0</td>\n",
       "      <td>1</td>\n",
       "    </tr>\n",
       "    <tr>\n",
       "      <th>7</th>\n",
       "      <td>3.200338</td>\n",
       "      <td>10.925424</td>\n",
       "      <td>1</td>\n",
       "      <td>POINT (3.20034 10.92542)</td>\n",
       "      <td>NaN</td>\n",
       "      <td>1</td>\n",
       "      <td>NaN</td>\n",
       "      <td>0</td>\n",
       "      <td>2</td>\n",
       "    </tr>\n",
       "    <tr>\n",
       "      <th>8</th>\n",
       "      <td>3.152338</td>\n",
       "      <td>10.406424</td>\n",
       "      <td>1</td>\n",
       "      <td>POINT (3.15234 10.40642)</td>\n",
       "      <td>4.0</td>\n",
       "      <td>0</td>\n",
       "      <td>NaN</td>\n",
       "      <td>0</td>\n",
       "      <td>1</td>\n",
       "    </tr>\n",
       "  </tbody>\n",
       "</table>\n",
       "</div>"
      ],
      "text/plain": [
       "        lon        lat  pixel                  geometry  forest_id  forest  \\\n",
       "0  3.391338  11.399424      1  POINT (3.39134 11.39942)        NaN       1   \n",
       "1  3.409338  10.655424      3  POINT (3.40934 10.65542)        4.0       0   \n",
       "2  3.222338  10.667424      2  POINT (3.22234 10.66742)        NaN       1   \n",
       "3  2.764338  10.184424      2  POINT (2.76434 10.18442)        NaN       1   \n",
       "4  3.244338  11.143424      1  POINT (3.24434 11.14342)        NaN       1   \n",
       "5  2.976338  10.593424      1  POINT (2.97634 10.59342)        4.0       0   \n",
       "6  3.091338  10.444424      1  POINT (3.09134 10.44442)        4.0       0   \n",
       "7  3.200338  10.925424      1  POINT (3.20034 10.92542)        NaN       1   \n",
       "8  3.152338  10.406424      1  POINT (3.15234 10.40642)        4.0       0   \n",
       "\n",
       "   road_id  road  priority  \n",
       "0     74.0     1         3  \n",
       "1      NaN     0         3  \n",
       "2    210.0     1         4  \n",
       "3    131.0     1         4  \n",
       "4      NaN     0         2  \n",
       "5      NaN     0         1  \n",
       "6      NaN     0         1  \n",
       "7      NaN     0         2  \n",
       "8      NaN     0         1  "
      ]
     },
     "execution_count": 47,
     "metadata": {},
     "output_type": "execute_result"
    }
   ],
   "source": [
    "cluster"
   ]
  },
  {
   "cell_type": "code",
   "execution_count": 48,
   "id": "close-lighter",
   "metadata": {},
   "outputs": [],
   "source": [
    "# save hydrological station dataframe\n",
    "#cluster.to_file('./data/output/hydrological_station.shp')"
   ]
  }
 ],
 "metadata": {
  "kernelspec": {
   "display_name": "Python 3",
   "language": "python",
   "name": "python3"
  },
  "language_info": {
   "codemirror_mode": {
    "name": "ipython",
    "version": 3
   },
   "file_extension": ".py",
   "mimetype": "text/x-python",
   "name": "python",
   "nbconvert_exporter": "python",
   "pygments_lexer": "ipython3",
   "version": "3.9.2"
  }
 },
 "nbformat": 4,
 "nbformat_minor": 5
}
