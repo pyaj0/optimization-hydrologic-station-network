{
 "cells": [
  {
   "cell_type": "code",
   "execution_count": 1,
   "id": "speaking-advantage",
   "metadata": {},
   "outputs": [],
   "source": [
    "# import libraries\n",
    "import numpy as np\n",
    "import pandas as pd\n",
    "import geopandas as gpd"
   ]
  },
  {
   "cell_type": "code",
   "execution_count": 2,
   "id": "numerical-universe",
   "metadata": {},
   "outputs": [],
   "source": [
    "# load sota basin shapefile\n",
    "sota = gpd.read_file('./data/input/sota_basin.shp')"
   ]
  },
  {
   "cell_type": "code",
   "execution_count": 3,
   "id": "reported-capitol",
   "metadata": {},
   "outputs": [],
   "source": [
    "# load sota forest shapefile\n",
    "forest = gpd.read_file('./data/input/forest_sota.shp')"
   ]
  },
  {
   "cell_type": "markdown",
   "id": "residential-cancer",
   "metadata": {},
   "source": [
    "# Optimization step"
   ]
  },
  {
   "cell_type": "markdown",
   "id": "patent-stranger",
   "metadata": {},
   "source": [
    "Coordinates and date of installation of hydrometric stations in Sota basin\n",
    "\n",
    "| Name | Latitude | Longitude | Date |\n",
    "| :--- | :--- | :--- | :--- |\n",
    "| Couberi | 11° 44’ 13” N | 3° 19’ 32” E | May 20, 1953 |\n",
    "| Gbasse | 10° 58’ 41” N | 3° 15’ 01” E | June 25, 1952 |\n",
    "| Malanville | 11° 52’ 48” N | 3° 23’ 45” E | June 23, 1952 |"
   ]
  },
  {
   "cell_type": "code",
   "execution_count": 4,
   "id": "heated-strand",
   "metadata": {},
   "outputs": [
    {
     "name": "stdout",
     "output_type": "stream",
     "text": [
      "0.149\n"
     ]
    }
   ],
   "source": [
    "# density d and d' of the 2 stations of sota river basin per 1000 km²\n",
    "d = 2 * 1000 * (10**6) / sota.area[0]\n",
    "print(format(d, \".3f\"))"
   ]
  },
  {
   "cell_type": "code",
   "execution_count": 5,
   "id": "instrumental-transmission",
   "metadata": {},
   "outputs": [
    {
     "name": "stdout",
     "output_type": "stream",
     "text": [
      "0.539\n"
     ]
    }
   ],
   "source": [
    "# minimal density dm of stations recommended by WHO\n",
    "dm = 1 * 1000 / 1857\n",
    "print(format(dm, \".3f\"))"
   ]
  },
  {
   "cell_type": "markdown",
   "id": "prerequisite-spectacular",
   "metadata": {},
   "source": [
    "# Sota perimeter and area"
   ]
  },
  {
   "cell_type": "code",
   "execution_count": 6,
   "id": "grave-baseball",
   "metadata": {},
   "outputs": [
    {
     "name": "stdout",
     "output_type": "stream",
     "text": [
      "[936.57467136] km\n"
     ]
    }
   ],
   "source": [
    "print(sota.length.values / 10**3, 'km')"
   ]
  },
  {
   "cell_type": "code",
   "execution_count": 7,
   "id": "innocent-manhattan",
   "metadata": {},
   "outputs": [
    {
     "name": "stdout",
     "output_type": "stream",
     "text": [
      "[13392.4630705] km²\n"
     ]
    }
   ],
   "source": [
    "print(sota.area.values / 10**6, 'km²')"
   ]
  },
  {
   "cell_type": "markdown",
   "id": "major-march",
   "metadata": {},
   "source": [
    "# Percentage of forest in Sota"
   ]
  },
  {
   "cell_type": "code",
   "execution_count": 8,
   "id": "entertaining-restaurant",
   "metadata": {},
   "outputs": [],
   "source": [
    "# convert crs of forest \n",
    "forest = forest.to_crs('EPSG:32631')"
   ]
  },
  {
   "cell_type": "code",
   "execution_count": 9,
   "id": "surprised-pharmaceutical",
   "metadata": {},
   "outputs": [
    {
     "name": "stdout",
     "output_type": "stream",
     "text": [
      "[32.18589183]\n"
     ]
    }
   ],
   "source": [
    "print((forest.area.values.sum() / sota.area.values)*100)"
   ]
  },
  {
   "cell_type": "markdown",
   "id": "contemporary-trade",
   "metadata": {},
   "source": [
    "# Sota bounds in form dd to dms"
   ]
  },
  {
   "cell_type": "code",
   "execution_count": 10,
   "id": "biological-production",
   "metadata": {},
   "outputs": [],
   "source": [
    "def decdeg2dms(dd):\n",
    "   is_positive = dd >= 0\n",
    "   dd = abs(dd)\n",
    "   minutes,seconds = divmod(dd*3600,60)\n",
    "   degrees,minutes = divmod(minutes,60)\n",
    "   degrees = degrees if is_positive else -degrees\n",
    "   return (degrees,minutes,seconds)"
   ]
  },
  {
   "cell_type": "code",
   "execution_count": 11,
   "id": "embedded-adolescent",
   "metadata": {},
   "outputs": [],
   "source": [
    "# reproject sota basin to EPSG:4326\n",
    "sota = sota.to_crs('EPSG:4326')"
   ]
  },
  {
   "cell_type": "code",
   "execution_count": 12,
   "id": "renewable-cowboy",
   "metadata": {},
   "outputs": [
    {
     "data": {
      "text/plain": [
       "array([[ 2.61683767,  9.92680085,  3.73652162, 11.815924  ]])"
      ]
     },
     "execution_count": 12,
     "metadata": {},
     "output_type": "execute_result"
    }
   ],
   "source": [
    "sota.bounds.values"
   ]
  },
  {
   "cell_type": "code",
   "execution_count": 13,
   "id": "fancy-province",
   "metadata": {},
   "outputs": [
    {
     "name": "stdout",
     "output_type": "stream",
     "text": [
      "(2.0, 37.0, 0.6155996208126453) (9.0, 55.0, 36.48305400142999) (3.0, 44.0, 11.477847362546527) (11.0, 48.0, 57.32638477531145)\n"
     ]
    }
   ],
   "source": [
    "print(decdeg2dms(sota.bounds.values[0,0]), decdeg2dms(sota.bounds.values[0,1]), decdeg2dms(sota.bounds.values[0,2]), decdeg2dms(sota.bounds.values[0,3]))"
   ]
  }
 ],
 "metadata": {
  "kernelspec": {
   "display_name": "Python 3",
   "language": "python",
   "name": "python3"
  },
  "language_info": {
   "codemirror_mode": {
    "name": "ipython",
    "version": 3
   },
   "file_extension": ".py",
   "mimetype": "text/x-python",
   "name": "python",
   "nbconvert_exporter": "python",
   "pygments_lexer": "ipython3",
   "version": "3.9.2"
  }
 },
 "nbformat": 4,
 "nbformat_minor": 5
}
